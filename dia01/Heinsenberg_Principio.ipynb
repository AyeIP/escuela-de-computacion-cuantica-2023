{
 "cells": [
  {
   "cell_type": "markdown",
   "metadata": {},
   "source": [
    "## Principio General de Incertidumbre de Heinsenberg"
   ]
  },
  {
   "cell_type": "markdown",
   "metadata": {},
   "source": [
    "El principio de incertidumbre de Heisenberg establece un límite inferior para el producto de la desviación estándar de dos operadores de medición proyectiva, digamos $M$ y $N$, dados un estado cuántico $\\ket{\\psi}$.\n",
    "\n",
    "Supongamos que tenemos dos operadores de medición, $M$ y $N$, y creamos múltiples copias, digamos $2n$, del sistema cuántico en el estado exacto $\\ket{\\psi}$. Ahora, si realizamos $n$ mediciones con respecto al operador $M$ y $n$ mediciones con respecto al operador $N$, veremos que la desviación estándar de los resultados de $M$ y $N$ sigue esta relación:"
   ]
  },
  {
   "cell_type": "markdown",
   "metadata": {},
   "source": [
    "\\begin{align*}\n",
    "\\Delta M \\Delta N \\geq \\frac{1}{2} | \\langle [M,N] \\rangle|\n",
    "\\end{align*} "
   ]
  },
  {
   "cell_type": "markdown",
   "metadata": {},
   "source": [
    "Esta ecuación se llama el principio de incertidumbre general de Heisenberg. Para demostrar el principio de incertidumbre de Heisenberg, haremos una pausa y veremos la desigualdad de Cauchy-Schwarz."
   ]
  },
  {
   "cell_type": "markdown",
   "metadata": {},
   "source": [
    "Para cualquier par de vectores $\\ket{v_1}$ y $\\ket{v_2}$, la suma de sus normas es mayor que la norma de su suma. Esto se conoce popularmente como la desigualdad del triángulo, que establece lo siguiente:"
   ]
  },
  {
   "cell_type": "markdown",
   "metadata": {},
   "source": [
    "\\begin{align*}\n",
    "|| \\ket{v_1}||+ || \\ket{v_2}|| \\geq || \\ket{v_1}| + | \\ket{v_2}||\n",
    "\\end{align*}"
   ]
  },
  {
   "cell_type": "markdown",
   "metadata": {},
   "source": [
    "Si ahora elevamos al cuadrado la expresión en ambos lados de la desigualdad del triángulo, obtenemos lo siguiente:"
   ]
  },
  {
   "cell_type": "markdown",
   "metadata": {},
   "source": [
    "\\begin{align*}\n",
    "|| \\ket{v_1}||^2 + || \\ket{v_2}||^2 + 2|| \\ket{v_1}||\\space|| \\ket{v_2}|| \\geq || \\ket{v_1}||^2 + || \\ket{v_2}||^2 + \\langle v_1 | v_2 \\rangle + \\langle v_2 | v_1 \\rangle\n",
    "\\end{align*}"
   ]
  },
  {
   "cell_type": "markdown",
   "metadata": {},
   "source": [
    "Tengamos en cuenta que el signo de la desigualdad no cambia al elevar al cuadrado, ya que la desigualdad del triángulo se refiere a las normas de los vectores en ambos lados y las normas son no negativas. Al eliminar los términos comunes de ambos lados de la desigualdad, nos queda la siguiente expresión:"
   ]
  },
  {
   "cell_type": "markdown",
   "metadata": {},
   "source": [
    "\\begin{align*}\n",
    "2|| \\ket{v_1}||\\space||\\ket{v_2}|| \\geq \\langle v_1 | v_2 \\rangle + \\langle v_2 | v_1 \\rangle\n",
    "\\end{align*}"
   ]
  },
  {
   "cell_type": "markdown",
   "metadata": {},
   "source": [
    "Ahora, para cualquier par de vectores $\\ket{v_1}$ y $\\ket{v_1}$ $\\in$ $\\mathbb{ℂ}^n$ en el espacio de vectores complejos n-dimensionales, tenemos lo siguiente:"
   ]
  },
  {
   "cell_type": "markdown",
   "metadata": {},
   "source": [
    "\\begin{align*}\n",
    "\\langle v_1 | v_2 \\rangle + \\langle v_2 | v_1 \\rangle = 2 Real(\\langle v_1 | v_2 \\rangle)\n",
    "\\rightarrow\n",
    "|| \\langle v_1 | v_2 \\rangle + \\langle v_2 | v_1 \\rangle || = 2 ||Real(\\langle v_1 | v_2 \\rangle)||\n",
    "\\end{align*}"
   ]
  },
  {
   "cell_type": "markdown",
   "metadata": {},
   "source": [
    "\\begin{align*}\n",
    "||\\langle v_1 | v_2 \\rangle + \\langle v_2 | v_1 \\rangle|| = 2 ||Real(\\langle v_1 | v_2 \\rangle)|| \\leq 2||\\langle v_1 | v_2 \\rangle|| \\\\\n",
    "\\rightarrow\n",
    "|| \\langle v_1 | v_2 \\rangle + \\langle v_2 | v_1 \\rangle || \\leq 2||\\ket{v_1} ||\\space || \\ket{v_2} || \\\\\n",
    "\\rightarrow\n",
    "2||\\ket{v_1} ||\\space || \\ket{v_2} || \\geq ||\\langle v_1 | v_2 \\rangle + \\langle v_2 | v_1 \\rangle||\n",
    "\\end{align*}"
   ]
  },
  {
   "cell_type": "markdown",
   "metadata": {},
   "source": [
    "Esta es la **desigualdad de Cauchy-Schwarz** para vectores en un espacio vectorial complejo, con la que trabajaremos para demostrar el principio de incertidumbre de Heisenberg.\n",
    "\n",
    "Para empezar, $M$ y $N$, al ser operadores de medición proyectiva, son hermíticos. Tomemos los dos estados $\\ket{\\phi_1}$ y  $\\ket{\\phi_2}$ que son resultados de aplicar los operadores de medición proyectiva $M$ e $iN$ al estado del sistema $\\ket{\\psi}$, definidos de la siguiente manera:"
   ]
  },
  {
   "cell_type": "markdown",
   "metadata": {},
   "source": [
    "\\begin{align*}\n",
    "\\ket{\\phi_1} = M \\ket{\\psi} \\\\\n",
    "\\ket{\\phi_2} = iN \\ket{\\psi} \\\\\n",
    "\\end{align*}"
   ]
  },
  {
   "cell_type": "markdown",
   "metadata": {
    "notebookRunGroups": {
     "groupValue": "2"
    }
   },
   "source": [
    "Substituyendo $\\ket{v_1}$ como $\\ket{\\phi_1}$ y $\\ket{v_2}$ como $\\ket{\\phi_2}$, el lado izquierda de la desigualdad de Cauchy-Schwarz puede ser simplicada de la siguiente manera:"
   ]
  },
  {
   "cell_type": "markdown",
   "metadata": {},
   "source": [
    "\\begin{align*}\n",
    "2|| \\ket{v_1}||\\space||\\ket{v_2}|| = 2|| \\ket{\\phi_1}||\\space||\\ket{\\phi_2}|| = 2 \\sqrt{\\langle \\phi_1 | \\phi_1 \\rangle} \\sqrt{\\langle \\phi_2 | \\phi_2 \\rangle} = 2 \\sqrt{\\langle \\psi|M^\\dagger M| \\psi \\rangle} \\space \\langle \\psi|(-i)N^\\dagger iN|\\psi \\rangle = 2 \\sqrt{\\langle \\psi|M^2|\\psi \\rangle} \\space \\sqrt{\\langle \\psi|N^2|\\psi \\rangle} \n",
    "\\end{align*}"
   ]
  },
  {
   "cell_type": "markdown",
   "metadata": {},
   "source": [
    "Notemos que $\\langle \\psi|M^2|\\psi \\rangle$ and $\\langle \\psi|N^2|\\psi \\rangle$ son los valores esperados de los operadores de medición $M^2$ y $N^2$ con respecto al estado $\\ket{\\psi}$. Entonces podemos escribir la ecuación anterior en términos de la notación del valor esperado de los operadores de medición como vemos:"
   ]
  },
  {
   "cell_type": "markdown",
   "metadata": {},
   "source": [
    "\\begin{align*}\n",
    "2|| \\ket{\\phi_1}||\\space||\\ket{\\phi_2}|| = 2 \\sqrt{\\langle \\psi|M^2|\\psi \\rangle} \\space \\sqrt{\\langle \\psi|N^2|\\psi \\rangle} = 2 \\sqrt{\\langle M^2 \\rangle} \\space \\sqrt{\\langle N^2 \\rangle}\n",
    "\\end{align*}"
   ]
  },
  {
   "cell_type": "markdown",
   "metadata": {},
   "source": [
    "Podemos substituir $\\ket{v_1}$ con $\\ket{\\phi_1}$ y $\\ket{v_2}$ con $\\ket{\\phi_2}$ en el lado derecho de la desigualda y obtener:"
   ]
  },
  {
   "cell_type": "markdown",
   "metadata": {},
   "source": [
    "\\begin{align*}\n",
    "||\\langle v_1 | v_2 \\rangle + \\langle v_2 | v_1 \\rangle|| = ||\\langle \\phi_1 | \\phi_2 \\rangle + \\langle \\phi_2 | \\phi_1 \\rangle|| = ||\\langle \\psi|M^\\dagger iN| \\psi \\rangle \\space + (-i)\\langle \\psi|N^\\dagger M|\\psi \\rangle = ||i\\langle \\psi|MN-NM|\\psi \\rangle|| = ||\\langle \\psi|MN-NM|\\psi \\rangle||\n",
    "\\end{align*}"
   ]
  },
  {
   "cell_type": "markdown",
   "metadata": {},
   "source": [
    "Ahora $(MN - NM)$ es el operador conmutativo [M,N]. Entonces:"
   ]
  },
  {
   "cell_type": "markdown",
   "metadata": {},
   "source": [
    "\\begin{align*}\n",
    "||\\langle \\phi_1 | \\phi_2 \\rangle + \\langle \\phi_2 | \\phi_1 \\rangle|| = ||\\langle \\psi|[M,N]|\\psi \\rangle||\n",
    "\\end{align*}"
   ]
  },
  {
   "cell_type": "markdown",
   "metadata": {},
   "source": [
    "Entonces tenemos:"
   ]
  },
  {
   "cell_type": "markdown",
   "metadata": {},
   "source": [
    "\\begin{align*}\n",
    "2|| \\ket{\\phi_1}||\\space||\\ket{\\phi_2}|| = ||\\langle \\phi_1 | \\phi_2 \\rangle + \\langle \\phi_2 | \\phi_1 \\rangle||\n",
    "\\rightarrow\n",
    "2 \\sqrt{\\langle M^2 \\rangle} \\space \\sqrt{\\langle N^2 \\rangle} \\geq ||\\langle \\psi|[M,N]|\\psi \\rangle||\n",
    "\\rightarrow\n",
    "\\sqrt{\\langle M^2 \\rangle} \\space \\sqrt{\\langle N^2 \\rangle} \\geq \\frac{1}{2}||\\langle \\psi|[M,N]|\\psi \\rangle||\n",
    "\\end{align*}"
   ]
  },
  {
   "cell_type": "markdown",
   "metadata": {},
   "source": [
    "Estamos cerca de probar el principio de incertidumbre de Heinsenberg. Las expresiones $\\sqrt{\\langle M^2 \\rangle}$ y $\\sqrt{\\langle N^2 \\rangle}$ pueden pensarse como la desviación estándar de los operadores $M$ y $N$ si sus valores esperados $\\langle M \\rangle$ y $\\langle N \\rangle$ fueran ambas $0$. Podemos reemplazar entonces $M$ y $N$ con $(M-\\langle M \\rangle)$ y $(N-\\langle N \\rangle)$ respectivamente en la ecuación anterior para expresar lo mismo en terminos de la desviación estándar de los operadores $M$ y $N$. Entonces:"
   ]
  },
  {
   "cell_type": "markdown",
   "metadata": {},
   "source": [
    "\\begin{align*}\n",
    "\\sqrt{\\langle M^2 \\rangle} \\space \\sqrt{\\langle N^2 \\rangle} \\geq \\frac{1}{2}||\\langle \\psi|[M,N]|\\psi \\rangle||\n",
    "\\rightarrow \n",
    "\\sqrt{\\langle(M-\\langle M \\rangle)^2\\rangle} \\sqrt{\\langle(N-\\langle N \\rangle)^2\\rangle} \\geq \\frac{1}{2}||\\langle \\psi|[M - \\langle M \\rangle, N - \\langle N \\rangle]|\\psi \\rangle||\n",
    "\\end{align*}"
   ]
  },
  {
   "cell_type": "markdown",
   "metadata": {},
   "source": [
    "El operador conmutativo $[M - \\langle M \\rangle, N - \\langle N \\rangle]$ se iguala a $[M,N]$. Si representamos la desviación estándar de $M$ = ($\\sqrt{\\langle(M-\\langle M \\rangle)^2\\rangle}$) como $\\Delta M$ y lo mismo con $N$ por $\\Delta N$, tenemos:"
   ]
  },
  {
   "cell_type": "markdown",
   "metadata": {},
   "source": [
    "\\begin{align*}\n",
    "\\Delta M \\Delta N \\geq \\frac{1}{2}||\\langle \\psi|[M,N]|\\psi \\rangle||\n",
    "\\end{align*}"
   ]
  },
  {
   "cell_type": "markdown",
   "metadata": {},
   "source": [
    "La desigualdad de la ecuación anterior es la versión más general del principio de incertidumbre de Heisenberg para los dos operadores de medición M y N.\n",
    "\n",
    "Pueden reemplazar por los operadores position $x$ y para el operador momento $p$ y ver qué obtienen."
   ]
  }
 ],
 "metadata": {
  "language_info": {
   "name": "python"
  }
 },
 "nbformat": 4,
 "nbformat_minor": 2
}
